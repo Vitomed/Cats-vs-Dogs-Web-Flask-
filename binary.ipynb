{
  "nbformat": 4,
  "nbformat_minor": 0,
  "metadata": {
    "colab": {
      "name": "binary.ipynb",
      "provenance": [],
      "collapsed_sections": []
    },
    "kernelspec": {
      "name": "python3",
      "display_name": "Python 3"
    },
    "accelerator": "GPU"
  },
  "cells": [
    {
      "cell_type": "code",
      "metadata": {
        "id": "QlJnFlj_6S8b",
        "colab_type": "code",
        "colab": {}
      },
      "source": [
        "import numpy\n",
        "from tensorflow.python.keras.preprocessing.image import ImageDataGenerator\n",
        "from tensorflow.python.keras.models import Sequential\n",
        "from tensorflow.python.keras.layers import Conv2D, MaxPooling2D\n",
        "from tensorflow.python.keras.layers import Activation, Dropout, Flatten, Dense"
      ],
      "execution_count": 0,
      "outputs": []
    },
    {
      "cell_type": "code",
      "metadata": {
        "id": "s-AJL5TrSLMj",
        "colab_type": "code",
        "colab": {}
      },
      "source": [
        "import shutil\n",
        "import os\n",
        "\n",
        "# Каталог с набором данных\n",
        "data_dir = 'train'\n",
        "# Каталог с данными для обучения\n",
        "train_dir = 'DBD/images/train'\n",
        "# Каталог с данными для проверки\n",
        "val_dir = 'DBD/images/validation'\n",
        "# Каталог с данными для тестирования\n",
        "test_dir = 'DBD/images/test'\n",
        "# Часть набора данных для тестирования\n",
        "test_data_portion = 0.15\n",
        "# Часть набора данных для проверки\n",
        "val_data_portion = 0.15\n",
        "# Количество элементов данных в одном классе\n",
        "nb_images = 12500"
      ],
      "execution_count": 0,
      "outputs": []
    },
    {
      "cell_type": "code",
      "metadata": {
        "id": "ld8KVRNkkLgP",
        "colab_type": "code",
        "colab": {}
      },
      "source": [
        "# Размеры изображения\n",
        "img_width, img_height = 150, 150\n",
        "# Размерность тензора на основе изображения для входных данных в нейронную сеть\n",
        "# backend Tensorflow, channels_last\n",
        "input_shape = (img_width, img_height, 3)\n",
        "# Размер мини-выборки\n",
        "batch_size = 10\n",
        "# Количество изображений для обучения\n",
        "nb_train_samples = 17500\n",
        "# Количество изображений для проверки\n",
        "nb_validation_samples = 3750\n",
        "# Количество изображений для тестирования\n",
        "nb_test_samples = 3750"
      ],
      "execution_count": 0,
      "outputs": []
    },
    {
      "cell_type": "markdown",
      "metadata": {
        "id": "gcG8VmT8lOE9",
        "colab_type": "text"
      },
      "source": [
        "Слои с 1 по 6 используются для выделения важных признаков в изображении, а слои с 7 по 10 - для классификации."
      ]
    },
    {
      "cell_type": "code",
      "metadata": {
        "id": "p3O8UXOolMWE",
        "colab_type": "code",
        "outputId": "af9f311b-d9ab-4ade-9001-93a1480275de",
        "colab": {
          "base_uri": "https://localhost:8080/",
          "height": 88
        }
      },
      "source": [
        "model = Sequential()\n",
        "model.add(Conv2D(32, (3, 3), input_shape=input_shape))\n",
        "model.add(Activation('relu'))\n",
        "model.add(MaxPooling2D(pool_size=(2, 2)))\n",
        "\n",
        "model.add(Conv2D(32, (3, 3)))\n",
        "model.add(Activation('relu'))\n",
        "model.add(MaxPooling2D(pool_size=(2, 2)))\n",
        "\n",
        "model.add(Conv2D(64, (3, 3)))\n",
        "model.add(Activation('relu'))\n",
        "model.add(MaxPooling2D(pool_size=(2, 2)))\n",
        "\n",
        "model.add(Flatten()) # Преобразование в одномерный вектор\n",
        "model.add(Dense(64)) \n",
        "model.add(Activation('relu'))\n",
        "model.add(Dropout(0.5))\n",
        "model.add(Dense(1)) # На выходе 1-н нейрон\n",
        "model.add(Activation('sigmoid')) # Данная функция характерна при бинарной классификации"
      ],
      "execution_count": 0,
      "outputs": [
        {
          "output_type": "stream",
          "text": [
            "WARNING:tensorflow:From /usr/local/lib/python3.6/dist-packages/tensorflow_core/python/ops/resource_variable_ops.py:1630: calling BaseResourceVariable.__init__ (from tensorflow.python.ops.resource_variable_ops) with constraint is deprecated and will be removed in a future version.\n",
            "Instructions for updating:\n",
            "If using Keras pass *_constraint arguments to layers.\n"
          ],
          "name": "stdout"
        }
      ]
    },
    {
      "cell_type": "code",
      "metadata": {
        "id": "ou_zZpQuREoj",
        "colab_type": "code",
        "outputId": "84a7bdcb-0734-46b8-be23-287740725195",
        "colab": {
          "base_uri": "https://localhost:8080/",
          "height": 88
        }
      },
      "source": [
        "model.compile(loss='binary_crossentropy',\n",
        "              optimizer='adam',\n",
        "              metrics=['accuracy'])"
      ],
      "execution_count": 0,
      "outputs": [
        {
          "output_type": "stream",
          "text": [
            "WARNING:tensorflow:From /usr/local/lib/python3.6/dist-packages/tensorflow_core/python/ops/nn_impl.py:183: where (from tensorflow.python.ops.array_ops) is deprecated and will be removed in a future version.\n",
            "Instructions for updating:\n",
            "Use tf.where in 2.0, which has the same broadcast rule as np.where\n"
          ],
          "name": "stdout"
        }
      ]
    },
    {
      "cell_type": "code",
      "metadata": {
        "id": "T6crfX0VRHa8",
        "colab_type": "code",
        "colab": {}
      },
      "source": [
        ""
      ],
      "execution_count": 0,
      "outputs": []
    },
    {
      "cell_type": "code",
      "metadata": {
        "id": "duntaJRmlXPm",
        "colab_type": "code",
        "colab": {}
      },
      "source": [
        "datagen = ImageDataGenerator(rescale=1. / 255)"
      ],
      "execution_count": 0,
      "outputs": []
    },
    {
      "cell_type": "code",
      "metadata": {
        "id": "awCuG-LHlZvp",
        "colab_type": "code",
        "outputId": "0be5fd46-29fe-4eff-aee9-3745d855e756",
        "colab": {
          "base_uri": "https://localhost:8080/",
          "height": 34
        }
      },
      "source": [
        "train_generator = datagen.flow_from_directory(\n",
        "    train_dir, target_size=(img_width, img_height),\n",
        "    batch_size=batch_size,class_mode='binary')"
      ],
      "execution_count": 0,
      "outputs": [
        {
          "output_type": "stream",
          "text": [
            "Found 17500 images belonging to 2 classes.\n"
          ],
          "name": "stdout"
        }
      ]
    },
    {
      "cell_type": "code",
      "metadata": {
        "id": "0a5zjMNflfx4",
        "colab_type": "code",
        "outputId": "c1839741-41bd-43da-a1c5-73abda6a82b1",
        "colab": {
          "base_uri": "https://localhost:8080/",
          "height": 34
        }
      },
      "source": [
        "val_generator = datagen.flow_from_directory(\n",
        "    val_dir, target_size=(img_width, img_height),\n",
        "    batch_size=batch_size,\n",
        "    class_mode='binary')"
      ],
      "execution_count": 0,
      "outputs": [
        {
          "output_type": "stream",
          "text": [
            "Found 3750 images belonging to 2 classes.\n"
          ],
          "name": "stdout"
        }
      ]
    },
    {
      "cell_type": "code",
      "metadata": {
        "id": "oQEXmby7l1gu",
        "colab_type": "code",
        "outputId": "3472c2bb-9fcf-4c98-dd2a-f5ad8a959439",
        "colab": {
          "base_uri": "https://localhost:8080/",
          "height": 34
        }
      },
      "source": [
        "test_generator = datagen.flow_from_directory(\n",
        "    test_dir,\n",
        "    target_size=(img_width, img_height),\n",
        "    batch_size=batch_size,\n",
        "    class_mode='binary')"
      ],
      "execution_count": 0,
      "outputs": [
        {
          "output_type": "stream",
          "text": [
            "Found 3750 images belonging to 2 classes.\n"
          ],
          "name": "stdout"
        }
      ]
    },
    {
      "cell_type": "code",
      "metadata": {
        "id": "rpfJR7tGRnyI",
        "colab_type": "code",
        "outputId": "e930bf52-7dad-4e3c-e325-71c11e69d90e",
        "colab": {
          "base_uri": "https://localhost:8080/",
          "height": 1000
        }
      },
      "source": [
        "model.fit_generator(\n",
        "    train_generator,\n",
        "    steps_per_epoch=nb_train_samples // batch_size,\n",
        "    epochs=20, validation_data=val_generator,\n",
        "    validation_steps=nb_validation_samples // batch_size)"
      ],
      "execution_count": 0,
      "outputs": [
        {
          "output_type": "stream",
          "text": [
            "Epoch 1/20\n",
            "1748/1750 [============================>.] - ETA: 0s - loss: 0.6474 - acc: 0.6273Epoch 1/20\n",
            "1750/1750 [==============================] - 81s 46ms/step - loss: 0.6472 - acc: 0.6275 - val_loss: 0.5866 - val_acc: 0.6933\n",
            "Epoch 2/20\n",
            "1748/1750 [============================>.] - ETA: 0s - loss: 0.5521 - acc: 0.7226Epoch 1/20\n",
            "1750/1750 [==============================] - 77s 44ms/step - loss: 0.5519 - acc: 0.7227 - val_loss: 0.4982 - val_acc: 0.7552\n",
            "Epoch 3/20\n",
            "1749/1750 [============================>.] - ETA: 0s - loss: 0.4711 - acc: 0.7802Epoch 1/20\n",
            "1750/1750 [==============================] - 77s 44ms/step - loss: 0.4712 - acc: 0.7801 - val_loss: 0.4268 - val_acc: 0.7971\n",
            "Epoch 4/20\n",
            "1748/1750 [============================>.] - ETA: 0s - loss: 0.4124 - acc: 0.8121Epoch 1/20\n",
            "1750/1750 [==============================] - 77s 44ms/step - loss: 0.4123 - acc: 0.8122 - val_loss: 0.4100 - val_acc: 0.8067\n",
            "Epoch 5/20\n",
            "1748/1750 [============================>.] - ETA: 0s - loss: 0.3622 - acc: 0.8423Epoch 1/20\n",
            "1750/1750 [==============================] - 77s 44ms/step - loss: 0.3622 - acc: 0.8423 - val_loss: 0.3915 - val_acc: 0.8208\n",
            "Epoch 6/20\n",
            "1748/1750 [============================>.] - ETA: 0s - loss: 0.3112 - acc: 0.8682Epoch 1/20\n",
            "1750/1750 [==============================] - 77s 44ms/step - loss: 0.3112 - acc: 0.8682 - val_loss: 0.4026 - val_acc: 0.8272\n",
            "Epoch 7/20\n",
            "1748/1750 [============================>.] - ETA: 0s - loss: 0.2657 - acc: 0.8852Epoch 1/20\n",
            "1750/1750 [==============================] - 77s 44ms/step - loss: 0.2655 - acc: 0.8854 - val_loss: 0.4924 - val_acc: 0.8192\n",
            "Epoch 8/20\n",
            "1748/1750 [============================>.] - ETA: 0s - loss: 0.2262 - acc: 0.9031Epoch 1/20\n",
            "1750/1750 [==============================] - 77s 44ms/step - loss: 0.2262 - acc: 0.9031 - val_loss: 0.5048 - val_acc: 0.8219\n",
            "Epoch 9/20\n",
            "1749/1750 [============================>.] - ETA: 0s - loss: 0.1997 - acc: 0.9131Epoch 1/20\n",
            "1750/1750 [==============================] - 77s 44ms/step - loss: 0.1997 - acc: 0.9130 - val_loss: 0.4551 - val_acc: 0.8232\n",
            "Epoch 10/20\n",
            "1748/1750 [============================>.] - ETA: 0s - loss: 0.1746 - acc: 0.9255Epoch 1/20\n",
            "1750/1750 [==============================] - 77s 44ms/step - loss: 0.1747 - acc: 0.9254 - val_loss: 0.5351 - val_acc: 0.8200\n",
            "Epoch 11/20\n",
            "1749/1750 [============================>.] - ETA: 0s - loss: 0.1608 - acc: 0.9337Epoch 1/20\n",
            "1750/1750 [==============================] - 77s 44ms/step - loss: 0.1608 - acc: 0.9338 - val_loss: 0.6464 - val_acc: 0.7997\n",
            "Epoch 12/20\n",
            "1749/1750 [============================>.] - ETA: 0s - loss: 0.1519 - acc: 0.9372Epoch 1/20\n",
            "1750/1750 [==============================] - 76s 44ms/step - loss: 0.1519 - acc: 0.9372 - val_loss: 0.6055 - val_acc: 0.8149\n",
            "Epoch 13/20\n",
            "1749/1750 [============================>.] - ETA: 0s - loss: 0.1305 - acc: 0.9463Epoch 1/20\n",
            "1750/1750 [==============================] - 76s 44ms/step - loss: 0.1305 - acc: 0.9463 - val_loss: 0.6537 - val_acc: 0.8160\n",
            "Epoch 14/20\n",
            "1749/1750 [============================>.] - ETA: 0s - loss: 0.1204 - acc: 0.9512Epoch 1/20\n",
            "1750/1750 [==============================] - 76s 44ms/step - loss: 0.1205 - acc: 0.9512 - val_loss: 0.6340 - val_acc: 0.8237\n",
            "Epoch 15/20\n",
            "1748/1750 [============================>.] - ETA: 0s - loss: 0.1172 - acc: 0.9514Epoch 1/20\n",
            "1750/1750 [==============================] - 76s 43ms/step - loss: 0.1173 - acc: 0.9514 - val_loss: 0.7042 - val_acc: 0.8221\n",
            "Epoch 16/20\n",
            "1749/1750 [============================>.] - ETA: 0s - loss: 0.1083 - acc: 0.9553Epoch 1/20\n",
            "1750/1750 [==============================] - 76s 43ms/step - loss: 0.1083 - acc: 0.9554 - val_loss: 0.7071 - val_acc: 0.8189\n",
            "Epoch 17/20\n",
            "1749/1750 [============================>.] - ETA: 0s - loss: 0.1099 - acc: 0.9550Epoch 1/20\n",
            "1750/1750 [==============================] - 76s 43ms/step - loss: 0.1101 - acc: 0.9550 - val_loss: 0.7341 - val_acc: 0.8248\n",
            "Epoch 18/20\n",
            "1748/1750 [============================>.] - ETA: 0s - loss: 0.1031 - acc: 0.9564Epoch 1/20\n",
            "1750/1750 [==============================] - 76s 43ms/step - loss: 0.1034 - acc: 0.9563 - val_loss: 0.7387 - val_acc: 0.8088\n",
            "Epoch 19/20\n",
            "1749/1750 [============================>.] - ETA: 0s - loss: 0.1079 - acc: 0.9565Epoch 1/20\n",
            "1750/1750 [==============================] - 76s 43ms/step - loss: 0.1079 - acc: 0.9565 - val_loss: 0.8080 - val_acc: 0.8304\n",
            "Epoch 20/20\n",
            "1748/1750 [============================>.] - ETA: 0s - loss: 0.0963 - acc: 0.9625Epoch 1/20\n",
            "1750/1750 [==============================] - 76s 44ms/step - loss: 0.0963 - acc: 0.9625 - val_loss: 0.7488 - val_acc: 0.8344\n"
          ],
          "name": "stdout"
        },
        {
          "output_type": "execute_result",
          "data": {
            "text/plain": [
              "<tensorflow.python.keras.callbacks.History at 0x7f29108844a8>"
            ]
          },
          "metadata": {
            "tags": []
          },
          "execution_count": 36
        }
      ]
    },
    {
      "cell_type": "code",
      "metadata": {
        "id": "g9MicZCVl95t",
        "colab_type": "code",
        "colab": {}
      },
      "source": [
        "scores = model.evaluate_generator(test_generator, nb_test_samples // batch_size)"
      ],
      "execution_count": 0,
      "outputs": []
    },
    {
      "cell_type": "code",
      "metadata": {
        "id": "9MM_GW8op1el",
        "colab_type": "code",
        "outputId": "1130a65e-9472-477e-cb1d-ee03d74497a1",
        "colab": {
          "base_uri": "https://localhost:8080/",
          "height": 34
        }
      },
      "source": [
        "print(\"Точность на тестовых данных: {} %\".format(scores[1]*100))"
      ],
      "execution_count": 0,
      "outputs": [
        {
          "output_type": "stream",
          "text": [
            "Точность на тестовых данных: 83.52000117301941 %\n"
          ],
          "name": "stdout"
        }
      ]
    },
    {
      "cell_type": "markdown",
      "metadata": {
        "id": "FLsuTHk4qaZr",
        "colab_type": "text"
      },
      "source": [
        "Сохраним нашу модель"
      ]
    },
    {
      "cell_type": "code",
      "metadata": {
        "id": "ze6V_qnCp92s",
        "colab_type": "code",
        "colab": {}
      },
      "source": [
        "model.save('DBD/binary.h5')"
      ],
      "execution_count": 0,
      "outputs": []
    },
    {
      "cell_type": "code",
      "metadata": {
        "id": "gCIlt5IWY8vi",
        "colab_type": "code",
        "colab": {}
      },
      "source": [
        "#  Загрузка файла\n",
        "# from google.colab import files\n",
        "# files.upload()"
      ],
      "execution_count": 0,
      "outputs": []
    },
    {
      "cell_type": "markdown",
      "metadata": {
        "id": "wPECljR6stMH",
        "colab_type": "text"
      },
      "source": [
        "Предсказание модели"
      ]
    },
    {
      "cell_type": "code",
      "metadata": {
        "id": "q5DYTMHcqsg3",
        "colab_type": "code",
        "colab": {}
      },
      "source": [
        "img = image.load_img('DBD/cat.jpg', target_size=(150, 150))\n",
        "x = image.img_to_array(img)\n",
        "x = numpy.expand_dims(x, axis=0)\n",
        "x = preprocess_input(x)\n",
        "predict = model.predict(x)"
      ],
      "execution_count": 0,
      "outputs": []
    },
    {
      "cell_type": "code",
      "metadata": {
        "id": "HxhXoc5ts_Po",
        "colab_type": "code",
        "outputId": "ee7c8fb4-6d2a-4407-bedb-9b9b085b010c",
        "colab": {
          "base_uri": "https://localhost:8080/",
          "height": 34
        }
      },
      "source": [
        "print(\"Результаты распознавания: \", predict) # Кошка"
      ],
      "execution_count": 0,
      "outputs": [
        {
          "output_type": "stream",
          "text": [
            "Результаты распознавания:  [[0.]]\n"
          ],
          "name": "stdout"
        }
      ]
    },
    {
      "cell_type": "code",
      "metadata": {
        "id": "FqkF2epPZ7Eb",
        "colab_type": "code",
        "outputId": "2edc2658-712b-4716-bc34-37630a10059e",
        "colab": {
          "base_uri": "https://localhost:8080/",
          "height": 34
        }
      },
      "source": [
        "img = image.load_img('DBD/dog.jpg', target_size=(150, 150))\n",
        "x = image.img_to_array(img)\n",
        "x = numpy.expand_dims(x, axis=0)\n",
        "x = preprocess_input(x)\n",
        "predict = model.predict(x)\n",
        "print(\"Результаты распознавания: \", predict)"
      ],
      "execution_count": 0,
      "outputs": [
        {
          "output_type": "stream",
          "text": [
            "Результаты распознавания:  [[1.]]\n"
          ],
          "name": "stdout"
        }
      ]
    },
    {
      "cell_type": "code",
      "metadata": {
        "id": "AK3fkR7ia17V",
        "colab_type": "code",
        "outputId": "01fcf461-fa10-4625-e3c4-2f002e9c6cc6",
        "colab": {
          "base_uri": "https://localhost:8080/",
          "height": 34
        }
      },
      "source": [
        "int(predict[0][0]) # Собака"
      ],
      "execution_count": 0,
      "outputs": [
        {
          "output_type": "execute_result",
          "data": {
            "text/plain": [
              "1"
            ]
          },
          "metadata": {
            "tags": []
          },
          "execution_count": 63
        }
      ]
    }
  ]
}