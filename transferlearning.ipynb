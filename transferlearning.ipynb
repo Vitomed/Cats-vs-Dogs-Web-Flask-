{
  "nbformat": 4,
  "nbformat_minor": 0,
  "metadata": {
    "colab": {
      "name": "transferlearning.ipynb",
      "provenance": [],
      "collapsed_sections": []
    },
    "kernelspec": {
      "name": "python3",
      "display_name": "Python 3"
    },
    "accelerator": "GPU"
  },
  "cells": [
    {
      "cell_type": "code",
      "metadata": {
        "id": "s-AJL5TrSLMj",
        "colab_type": "code",
        "colab": {}
      },
      "source": [
        "import shutil\n",
        "import os\n",
        "\n",
        "# Каталог с набором данных\n",
        "data_dir = 'train'\n",
        "# Каталог с данными для обучения\n",
        "train_dir = 'DPD/images/train'\n",
        "# Каталог с данными для проверки\n",
        "val_dir = 'DPD/images/validation'\n",
        "# Каталог с данными для тестирования\n",
        "test_dir = 'DPD/images/test'\n",
        "# Часть набора данных для тестирования\n",
        "test_data_portion = 0.15\n",
        "# Часть набора данных для проверки\n",
        "val_data_portion = 0.15\n",
        "# Количество элементов данных в одном классе\n",
        "nb_images = 12500"
      ],
      "execution_count": 0,
      "outputs": []
    },
    {
      "cell_type": "code",
      "metadata": {
        "id": "WptodY51VkTO",
        "colab_type": "code",
        "colab": {}
      },
      "source": [
        "# Функция для создания 3-х папок (data_dir, val_dir, test_dir) с 2-мя вложенными папками (cat, dog)\n",
        "def create_directory(dir_name):\n",
        "    if os.path.exists(dir_name):\n",
        "        shutil.rmtree(dir_name)\n",
        "    os.makedirs(dir_name)\n",
        "    os.makedirs(os.path.join(dir_name, \"cats\"))\n",
        "    os.makedirs(os.path.join(dir_name, \"dogs\"))\n",
        "\n",
        "create_directory(train_dir)\n",
        "create_directory(val_dir)\n",
        "create_directory(test_dir)"
      ],
      "execution_count": 0,
      "outputs": []
    },
    {
      "cell_type": "code",
      "metadata": {
        "id": "HYeK3d34W7Og",
        "colab_type": "code",
        "outputId": "6a14ad85-7bf2-45af-a903-ad05ebe02036",
        "colab": {
          "base_uri": "https://localhost:8080/",
          "height": 51
        }
      },
      "source": [
        "#  Функция копирования данных в указанном диапазоне индексов из исходной \n",
        "#  разархивированной папки (trani.zip -> train) в указанные папки, \n",
        "#  для размещения картинок\n",
        "def copy_images(start_index, end_index, source_dir, dest_dir):\n",
        "    for i in range(start_index, end_index):\n",
        "        shutil.copy2(os.path.join(source_dir, \"cat.\" + str(i) + \".jpg\"),\n",
        "                    os.path.join(dest_dir, \"cats\"))\n",
        "        shutil.copy2(os.path.join(source_dir, \"dog.\" + str(i) + \".jpg\"),\n",
        "                   os.path.join(dest_dir, \"dogs\"))\n",
        "# Распеределние картинок: тестовый набор - 15%, проверочный набор - 15% \n",
        "\n",
        "start_val_data_idx = int(nb_images * (1 - val_data_portion - test_data_portion))\n",
        "start_test_data_idx = int(nb_images * (1 - test_data_portion))\n",
        "print(start_val_data_idx) #  Вывод индексов изображений\n",
        "print(start_test_data_idx) #  Вывод индексов изображений"
      ],
      "execution_count": 0,
      "outputs": [
        {
          "output_type": "stream",
          "text": [
            "8750\n",
            "10625\n"
          ],
          "name": "stdout"
        }
      ]
    },
    {
      "cell_type": "code",
      "metadata": {
        "id": "38H1lUR3hoch",
        "colab_type": "code",
        "colab": {}
      },
      "source": [
        "#  Копирование изображений\n",
        "copy_images(0, start_val_data_idx, data_dir, train_dir) # 0 - 8750\n",
        "copy_images(start_val_data_idx, start_test_data_idx, data_dir, val_dir) # 8750 - 10625\n",
        "copy_images(start_test_data_idx, nb_images, data_dir, test_dir) # 10625 - 12500 "
      ],
      "execution_count": 0,
      "outputs": []
    },
    {
      "cell_type": "markdown",
      "metadata": {
        "id": "BxH3lJOIzeEn",
        "colab_type": "text"
      },
      "source": [
        "Распознавание собак и кошек на изображениях с помощью признаков, извлеченных предварительно обученной нейронной сетью VGG16"
      ]
    },
    {
      "cell_type": "code",
      "metadata": {
        "id": "LNMul9OokVJu",
        "colab_type": "code",
        "outputId": "49d8ac94-5dea-4c95-931c-33e0c0530610",
        "colab": {
          "base_uri": "https://localhost:8080/",
          "height": 63
        }
      },
      "source": [
        "import numpy\n",
        "from tensorflow.python.keras.preprocessing.image import ImageDataGenerator\n",
        "from tensorflow.python.keras.preprocessing import image\n",
        "from tensorflow.python.keras.models import Sequential\n",
        "from tensorflow.python.keras.layers import Activation, Dropout, Flatten, Dense\n",
        "from tensorflow.python.keras.applications import VGG16\n",
        "from tensorflow.python.keras.applications.vgg16 import preprocess_input, decode_predictions\n",
        "from tensorflow.python.keras.optimizers import Adam"
      ],
      "execution_count": 0,
      "outputs": [
        {
          "output_type": "display_data",
          "data": {
            "text/html": [
              "<p style=\"color: red;\">\n",
              "The default version of TensorFlow in Colab will soon switch to TensorFlow 2.x.<br>\n",
              "We recommend you <a href=\"https://www.tensorflow.org/guide/migrate\" target=\"_blank\">upgrade</a> now \n",
              "or ensure your notebook will continue to use TensorFlow 1.x via the <code>%tensorflow_version 1.x</code> magic:\n",
              "<a href=\"https://colab.research.google.com/notebooks/tensorflow_version.ipynb\" target=\"_blank\">more info</a>.</p>\n"
            ],
            "text/plain": [
              "<IPython.core.display.HTML object>"
            ]
          },
          "metadata": {
            "tags": []
          }
        }
      ]
    },
    {
      "cell_type": "code",
      "metadata": {
        "id": "ld8KVRNkkLgP",
        "colab_type": "code",
        "colab": {}
      },
      "source": [
        "# Размеры изображения\n",
        "img_width, img_height = 150, 150 # backend Tensorflow, channels Last\n",
        "# Размерность тензора на основе изображения для входных данных в нейронную сеть\n",
        "# backend Tensorflow, channels_last\n",
        "input_shape = (img_width, img_height, 3)\n",
        "# Размер мини-выборки\n",
        "batch_size = 10\n",
        "# Количество изображений для обучения\n",
        "nb_train_samples = 17500\n",
        "# Количество изображений для проверки\n",
        "nb_validation_samples = 3750\n",
        "# Количество изображений для тестирования\n",
        "nb_test_samples = 3750"
      ],
      "execution_count": 0,
      "outputs": []
    },
    {
      "cell_type": "markdown",
      "metadata": {
        "id": "tpmBgvZAmX1t",
        "colab_type": "text"
      },
      "source": [
        "Решение 1.\n",
        "Используя предварительнообученную сеть VGG16, мы решим нашу задачу бинарной классификации (Кошки/Собаки)"
      ]
    },
    {
      "cell_type": "code",
      "metadata": {
        "id": "WwMhJJA2mb2T",
        "colab_type": "code",
        "outputId": "1794dca2-a08a-4434-e59a-64c67ec945ef",
        "colab": {
          "base_uri": "https://localhost:8080/",
          "height": 122
        }
      },
      "source": [
        "vgg16 = VGG16(weights='imagenet', include_top=False,\n",
        "                  input_shape=(img_width, img_height, 3))\n",
        "vgg16.trainable = False #  Сеть умеет выделять признаки, \n",
        "# поэтому ей не нужно тренироваться для этого опять"
      ],
      "execution_count": 0,
      "outputs": [
        {
          "output_type": "stream",
          "text": [
            "WARNING:tensorflow:From /usr/local/lib/python3.6/dist-packages/tensorflow_core/python/ops/resource_variable_ops.py:1630: calling BaseResourceVariable.__init__ (from tensorflow.python.ops.resource_variable_ops) with constraint is deprecated and will be removed in a future version.\n",
            "Instructions for updating:\n",
            "If using Keras pass *_constraint arguments to layers.\n",
            "Downloading data from https://github.com/fchollet/deep-learning-models/releases/download/v0.1/vgg16_weights_tf_dim_ordering_tf_kernels_notop.h5\n",
            "58892288/58889256 [==============================] - 6s 0us/step\n"
          ],
          "name": "stdout"
        }
      ]
    },
    {
      "cell_type": "code",
      "metadata": {
        "id": "Y7LUl_4VmwNK",
        "colab_type": "code",
        "outputId": "d8202fb8-9b53-44ac-a6f2-12431f5b564e",
        "colab": {
          "base_uri": "https://localhost:8080/",
          "height": 799
        }
      },
      "source": [
        "vgg16.summary()"
      ],
      "execution_count": 0,
      "outputs": [
        {
          "output_type": "stream",
          "text": [
            "Model: \"vgg16\"\n",
            "_________________________________________________________________\n",
            "Layer (type)                 Output Shape              Param #   \n",
            "=================================================================\n",
            "input_1 (InputLayer)         [(None, 150, 150, 3)]     0         \n",
            "_________________________________________________________________\n",
            "block1_conv1 (Conv2D)        (None, 150, 150, 64)      1792      \n",
            "_________________________________________________________________\n",
            "block1_conv2 (Conv2D)        (None, 150, 150, 64)      36928     \n",
            "_________________________________________________________________\n",
            "block1_pool (MaxPooling2D)   (None, 75, 75, 64)        0         \n",
            "_________________________________________________________________\n",
            "block2_conv1 (Conv2D)        (None, 75, 75, 128)       73856     \n",
            "_________________________________________________________________\n",
            "block2_conv2 (Conv2D)        (None, 75, 75, 128)       147584    \n",
            "_________________________________________________________________\n",
            "block2_pool (MaxPooling2D)   (None, 37, 37, 128)       0         \n",
            "_________________________________________________________________\n",
            "block3_conv1 (Conv2D)        (None, 37, 37, 256)       295168    \n",
            "_________________________________________________________________\n",
            "block3_conv2 (Conv2D)        (None, 37, 37, 256)       590080    \n",
            "_________________________________________________________________\n",
            "block3_conv3 (Conv2D)        (None, 37, 37, 256)       590080    \n",
            "_________________________________________________________________\n",
            "block3_pool (MaxPooling2D)   (None, 18, 18, 256)       0         \n",
            "_________________________________________________________________\n",
            "block4_conv1 (Conv2D)        (None, 18, 18, 512)       1180160   \n",
            "_________________________________________________________________\n",
            "block4_conv2 (Conv2D)        (None, 18, 18, 512)       2359808   \n",
            "_________________________________________________________________\n",
            "block4_conv3 (Conv2D)        (None, 18, 18, 512)       2359808   \n",
            "_________________________________________________________________\n",
            "block4_pool (MaxPooling2D)   (None, 9, 9, 512)         0         \n",
            "_________________________________________________________________\n",
            "block5_conv1 (Conv2D)        (None, 9, 9, 512)         2359808   \n",
            "_________________________________________________________________\n",
            "block5_conv2 (Conv2D)        (None, 9, 9, 512)         2359808   \n",
            "_________________________________________________________________\n",
            "block5_conv3 (Conv2D)        (None, 9, 9, 512)         2359808   \n",
            "_________________________________________________________________\n",
            "block5_pool (MaxPooling2D)   (None, 4, 4, 512)         0         \n",
            "=================================================================\n",
            "Total params: 14,714,688\n",
            "Trainable params: 0\n",
            "Non-trainable params: 14,714,688\n",
            "_________________________________________________________________\n"
          ],
          "name": "stdout"
        }
      ]
    },
    {
      "cell_type": "code",
      "metadata": {
        "id": "TBhgY1W2nBq0",
        "colab_type": "code",
        "outputId": "b5f784cc-064f-4731-f004-2047f2447341",
        "colab": {
          "base_uri": "https://localhost:8080/",
          "height": 391
        }
      },
      "source": [
        "#  Создаем составную нейронную сеть на основе VGG16.\n",
        "model = Sequential()\n",
        "#  Добавляем последовательную сеть VGG16 вместо слоя.\n",
        "model.add(vgg16)\n",
        "#  Добавляем новые слои, которые будут использоваться для классификации.\n",
        "#  Первый слой - выпрямление. Нужен для получения плоского вектора,\n",
        "#  т.е. преобразования из двумерного массива в одномерный\n",
        "model.add(Flatten())\n",
        "# Полносвязный слой с 256 нейронами\n",
        "model.add(Dense(256))\n",
        "# Функция активации Релу\n",
        "model.add(Activation('relu'))\n",
        "# Dropout для снижения переобучения\n",
        "model.add(Dropout(0.5))\n",
        "# Выходной слой с 1-им нейроном\n",
        "model.add(Dense(1))\n",
        "# Функция - сигмоид, для решения бинарной классификации\n",
        "model.add(Activation('sigmoid'))\n",
        "model.summary()"
      ],
      "execution_count": 0,
      "outputs": [
        {
          "output_type": "stream",
          "text": [
            "Model: \"sequential\"\n",
            "_________________________________________________________________\n",
            "Layer (type)                 Output Shape              Param #   \n",
            "=================================================================\n",
            "vgg16 (Model)                (None, 4, 4, 512)         14714688  \n",
            "_________________________________________________________________\n",
            "flatten (Flatten)            (None, 8192)              0         \n",
            "_________________________________________________________________\n",
            "dense (Dense)                (None, 256)               2097408   \n",
            "_________________________________________________________________\n",
            "activation (Activation)      (None, 256)               0         \n",
            "_________________________________________________________________\n",
            "dropout (Dropout)            (None, 256)               0         \n",
            "_________________________________________________________________\n",
            "dense_1 (Dense)              (None, 1)                 257       \n",
            "_________________________________________________________________\n",
            "activation_1 (Activation)    (None, 1)                 0         \n",
            "=================================================================\n",
            "Total params: 16,812,353\n",
            "Trainable params: 2,097,665\n",
            "Non-trainable params: 14,714,688\n",
            "_________________________________________________________________\n"
          ],
          "name": "stdout"
        }
      ]
    },
    {
      "cell_type": "code",
      "metadata": {
        "id": "oeUe0ZMcnIR1",
        "colab_type": "code",
        "outputId": "835a0b13-d570-44a3-8e9e-57774b0559cc",
        "colab": {
          "base_uri": "https://localhost:8080/",
          "height": 88
        }
      },
      "source": [
        "#  Этап 3\n",
        "#  Компилируем нашу нейронную сеть.\n",
        "#  Для этого выберем невысокую скорость обучения в оптимизаторе Adam.\n",
        "model.compile(loss=\"binary_crossentropy\", optimizer=Adam(lr=1e-5),\n",
        "              metrics=['accuracy'])"
      ],
      "execution_count": 0,
      "outputs": [
        {
          "output_type": "stream",
          "text": [
            "WARNING:tensorflow:From /usr/local/lib/python3.6/dist-packages/tensorflow_core/python/ops/nn_impl.py:183: where (from tensorflow.python.ops.array_ops) is deprecated and will be removed in a future version.\n",
            "Instructions for updating:\n",
            "Use tf.where in 2.0, which has the same broadcast rule as np.where\n"
          ],
          "name": "stdout"
        }
      ]
    },
    {
      "cell_type": "code",
      "metadata": {
        "id": "Q1Qe9mwcnaQ2",
        "colab_type": "code",
        "outputId": "3d2fe41a-4c2e-4a56-d4e9-d3393abe1dbd",
        "colab": {
          "base_uri": "https://localhost:8080/",
          "height": 68
        }
      },
      "source": [
        "# Этап 4\n",
        "#  Создание генератора изображений\n",
        "datagen = ImageDataGenerator(rescale=1. / 255)\n",
        "\n",
        "train_generator = datagen.flow_from_directory(\n",
        "    train_dir, target_size=(img_width, img_height),\n",
        "    batch_size=batch_size, class_mode='binary')\n",
        "\n",
        "val_generator = datagen.flow_from_directory(\n",
        "    val_dir, target_size=(img_width, img_height),\n",
        "    batch_size=batch_size, class_mode='binary')\n",
        "\n",
        "test_generator = datagen.flow_from_directory(\n",
        "    test_dir, target_size=(img_width, img_height),\n",
        "    batch_size=batch_size, class_mode='binary')"
      ],
      "execution_count": 0,
      "outputs": [
        {
          "output_type": "stream",
          "text": [
            "Found 17500 images belonging to 2 classes.\n",
            "Found 3750 images belonging to 2 classes.\n",
            "Found 3750 images belonging to 2 classes.\n"
          ],
          "name": "stdout"
        }
      ]
    },
    {
      "cell_type": "code",
      "metadata": {
        "id": "QgN4Kk3OnlFv",
        "colab_type": "code",
        "outputId": "b8433783-aeca-4788-c5bb-0614b067e141",
        "colab": {
          "base_uri": "https://localhost:8080/",
          "height": 544
        }
      },
      "source": [
        "#  Этап 5\n",
        "#  Обучаем составную часть\n",
        "model.fit_generator(train_generator, steps_per_epoch=nb_train_samples // batch_size,\n",
        "                    epochs=10, validation_data=val_generator,\n",
        "                    validation_steps=nb_validation_samples // batch_size)"
      ],
      "execution_count": 0,
      "outputs": [
        {
          "output_type": "stream",
          "text": [
            "Epoch 1/10\n",
            "1749/1750 [============================>.] - ETA: 0s - loss: 0.4091 - acc: 0.8064Epoch 1/10\n",
            "1750/1750 [==============================] - 181s 103ms/step - loss: 0.4091 - acc: 0.8063 - val_loss: 0.2847 - val_acc: 0.8907\n",
            "Epoch 2/10\n",
            "1749/1750 [============================>.] - ETA: 0s - loss: 0.2811 - acc: 0.8812Epoch 1/10\n",
            "1750/1750 [==============================] - 175s 100ms/step - loss: 0.2810 - acc: 0.8813 - val_loss: 0.2488 - val_acc: 0.9011\n",
            "Epoch 3/10\n",
            "1749/1750 [============================>.] - ETA: 0s - loss: 0.2474 - acc: 0.8974Epoch 1/10\n",
            "1750/1750 [==============================] - 175s 100ms/step - loss: 0.2473 - acc: 0.8974 - val_loss: 0.2335 - val_acc: 0.9080\n",
            "Epoch 4/10\n",
            "1749/1750 [============================>.] - ETA: 0s - loss: 0.2285 - acc: 0.9050Epoch 1/10\n",
            "1750/1750 [==============================] - 175s 100ms/step - loss: 0.2284 - acc: 0.9051 - val_loss: 0.2256 - val_acc: 0.9099\n",
            "Epoch 5/10\n",
            "1749/1750 [============================>.] - ETA: 0s - loss: 0.2138 - acc: 0.9137Epoch 1/10\n",
            "1750/1750 [==============================] - 175s 100ms/step - loss: 0.2137 - acc: 0.9137 - val_loss: 0.2209 - val_acc: 0.9117\n",
            "Epoch 6/10\n",
            "1749/1750 [============================>.] - ETA: 0s - loss: 0.2014 - acc: 0.9181Epoch 1/10\n",
            "1750/1750 [==============================] - 175s 100ms/step - loss: 0.2014 - acc: 0.9182 - val_loss: 0.2169 - val_acc: 0.9123\n",
            "Epoch 7/10\n",
            "1749/1750 [============================>.] - ETA: 0s - loss: 0.1931 - acc: 0.9205Epoch 1/10\n",
            "1750/1750 [==============================] - 175s 100ms/step - loss: 0.1930 - acc: 0.9206 - val_loss: 0.2129 - val_acc: 0.9157\n",
            "Epoch 8/10\n",
            "1749/1750 [============================>.] - ETA: 0s - loss: 0.1867 - acc: 0.9233Epoch 1/10\n",
            "1750/1750 [==============================] - 174s 100ms/step - loss: 0.1867 - acc: 0.9234 - val_loss: 0.2101 - val_acc: 0.9155\n",
            "Epoch 9/10\n",
            "1749/1750 [============================>.] - ETA: 0s - loss: 0.1780 - acc: 0.9293Epoch 1/10\n",
            "1750/1750 [==============================] - 175s 100ms/step - loss: 0.1779 - acc: 0.9294 - val_loss: 0.2091 - val_acc: 0.9141\n",
            "Epoch 10/10\n",
            "1749/1750 [============================>.] - ETA: 0s - loss: 0.1728 - acc: 0.9315Epoch 1/10\n",
            "1750/1750 [==============================] - 175s 100ms/step - loss: 0.1727 - acc: 0.9315 - val_loss: 0.2086 - val_acc: 0.9189\n"
          ],
          "name": "stdout"
        },
        {
          "output_type": "execute_result",
          "data": {
            "text/plain": [
              "<tensorflow.python.keras.callbacks.History at 0x7fed501790f0>"
            ]
          },
          "metadata": {
            "tags": []
          },
          "execution_count": 28
        }
      ]
    },
    {
      "cell_type": "code",
      "metadata": {
        "id": "aSeFKDZJnums",
        "colab_type": "code",
        "outputId": "f5b780f5-2890-40f6-d820-4c52c90911fc",
        "colab": {
          "base_uri": "https://localhost:8080/",
          "height": 34
        }
      },
      "source": [
        "#  Этап 6\n",
        "#  Сравнение с тестовым набором\n",
        "score = model.evaluate_generator(test_generator, nb_test_samples // batch_size)\n",
        "print(\"Проверка на тестовых данных score(%): {}\".format(score[1]*100))"
      ],
      "execution_count": 0,
      "outputs": [
        {
          "output_type": "stream",
          "text": [
            "Проверка на тестовых данных score(%): 91.33333563804626\n"
          ],
          "name": "stdout"
        }
      ]
    },
    {
      "cell_type": "markdown",
      "metadata": {
        "id": "EZZT5qZjoJS2",
        "colab_type": "text"
      },
      "source": [
        "Предсказание модели"
      ]
    },
    {
      "cell_type": "code",
      "metadata": {
        "id": "yk_W6IuVoAWk",
        "colab_type": "code",
        "outputId": "f612fcd5-e5e4-42a4-d0ee-16e5b2ae1c19",
        "colab": {
          "base_uri": "https://localhost:8080/",
          "height": 34
        }
      },
      "source": [
        "img = image.load_img('DPD/dog.jpg', target_size=(150, 150))\n",
        "x = image.img_to_array(img)\n",
        "x = numpy.expand_dims(x, axis=0)\n",
        "x = preprocess_input(x)\n",
        "predict = model.predict(x)\n",
        "\n",
        "print(\"Результаты распознавания: \", predict) # Собака = 1"
      ],
      "execution_count": 0,
      "outputs": [
        {
          "output_type": "stream",
          "text": [
            "Результаты распознавания:  [[1.]]\n"
          ],
          "name": "stdout"
        }
      ]
    },
    {
      "cell_type": "code",
      "metadata": {
        "id": "I7MrcJvsuQLy",
        "colab_type": "code",
        "outputId": "61391f06-47af-451a-987b-6d2a8ca2ede9",
        "colab": {
          "base_uri": "https://localhost:8080/",
          "height": 34
        }
      },
      "source": [
        "img = image.load_img('DPD/cat.jpg', target_size=(150, 150))\n",
        "x = image.img_to_array(img)\n",
        "x = numpy.expand_dims(x, axis=0)\n",
        "x = preprocess_input(x)\n",
        "predict = model.predict(x)\n",
        "\n",
        "print(\"Результаты распознавания: \", predict) # Кошка = 0"
      ],
      "execution_count": 0,
      "outputs": [
        {
          "output_type": "stream",
          "text": [
            "Результаты распознавания:  [[0.]]\n"
          ],
          "name": "stdout"
        }
      ]
    },
    {
      "cell_type": "code",
      "metadata": {
        "id": "cJlSNsyNpcAL",
        "colab_type": "code",
        "colab": {}
      },
      "source": [
        "model.save('transferlearning.h5')"
      ],
      "execution_count": 0,
      "outputs": []
    }
  ]
}